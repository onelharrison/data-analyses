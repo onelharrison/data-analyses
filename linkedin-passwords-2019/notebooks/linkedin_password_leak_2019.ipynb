{
 "cells": [
  {
   "cell_type": "markdown",
   "metadata": {},
   "source": [
    "# LinkedIn Password Leak\n",
    "\n",
    "The dataset used in this notebook can be found [here](https://figshare.com/articles/dataset/linkedin_files_zip/7350287)."
   ]
  },
  {
   "cell_type": "code",
   "execution_count": 101,
   "metadata": {},
   "outputs": [],
   "source": [
    "import pandas as pd\n",
    "import numpy as np\n",
    "import seaborn as sns\n",
    "import matplotlib.pyplot as plt\n",
    "import matplotlib\n",
    "\n",
    "from pathlib import Path\n",
    "\n",
    "%matplotlib inline\n",
    "\n",
    "DATA_DIR = Path(\"../data/linkedin_dataset_v2_2019_04_01\")"
   ]
  },
  {
   "cell_type": "markdown",
   "metadata": {},
   "source": [
    "## How many unique leaked passwords are included in this dataset?"
   ]
  },
  {
   "cell_type": "markdown",
   "metadata": {},
   "source": [
    "Count all the unique password ids in the full.out file"
   ]
  },
  {
   "cell_type": "markdown",
   "metadata": {},
   "source": [
    "Using the shell"
   ]
  },
  {
   "cell_type": "code",
   "execution_count": 26,
   "metadata": {},
   "outputs": [
    {
     "name": "stdout",
     "output_type": "stream",
     "text": [
      "3639\r\n"
     ]
    }
   ],
   "source": [
    "!cut {DATA_DIR}/full.out -d ' ' -f 1 | sort -n | uniq | wc -l"
   ]
  },
  {
   "cell_type": "markdown",
   "metadata": {},
   "source": [
    "Count all the password ids in the full.out file"
   ]
  },
  {
   "cell_type": "markdown",
   "metadata": {},
   "source": [
    "Using python"
   ]
  },
  {
   "cell_type": "code",
   "execution_count": 27,
   "metadata": {},
   "outputs": [
    {
     "name": "stdout",
     "output_type": "stream",
     "text": [
      "3639\n"
     ]
    }
   ],
   "source": [
    "with open(DATA_DIR/\"full.out\", \"r\") as full:\n",
    "    print(len(full.readlines()))"
   ]
  },
  {
   "cell_type": "markdown",
   "metadata": {},
   "source": [
    "Using the shell"
   ]
  },
  {
   "cell_type": "code",
   "execution_count": 28,
   "metadata": {},
   "outputs": [
    {
     "name": "stdout",
     "output_type": "stream",
     "text": [
      "3639\r\n"
     ]
    }
   ],
   "source": [
    "# What if we don't \"unique\" the data?\n",
    "!wc -l {DATA_DIR}/full.out | cut -d ' ' -f 1"
   ]
  },
  {
   "cell_type": "markdown",
   "metadata": {},
   "source": [
    "Do we get the name number if we merge all the separate files and count the number of lines?"
   ]
  },
  {
   "cell_type": "code",
   "execution_count": 29,
   "metadata": {},
   "outputs": [
    {
     "name": "stdout",
     "output_type": "stream",
     "text": [
      "10504\r\n"
     ]
    }
   ],
   "source": [
    "# It appears not, which suggests the presence of duplicate password ids across files\n",
    "!ls {DATA_DIR} | grep -v full.out | xargs -I file cat {DATA_DIR}/file | cut -d ' ' -f 1 | wc -l"
   ]
  },
  {
   "cell_type": "code",
   "execution_count": 30,
   "metadata": {},
   "outputs": [
    {
     "name": "stdout",
     "output_type": "stream",
     "text": [
      "3907\r\n"
     ]
    }
   ],
   "source": [
    "# What if we only count the unique password ids?\n",
    "!ls {DATA_DIR} | grep -v full.out | xargs -I file cat {DATA_DIR}/file | cut -d ' ' -f 1 | sort -n | uniq | wc -l "
   ]
  },
  {
   "cell_type": "markdown",
   "metadata": {},
   "source": [
    "We still overshoot the count on full.out\n",
    "\n",
    "I think we should not be attempting to merge (UNION DISTINCT) the files in this dataset\n",
    "because the password ids (first column of each file) are only unique\n",
    "within each file."
   ]
  },
  {
   "cell_type": "code",
   "execution_count": 181,
   "metadata": {},
   "outputs": [],
   "source": [
    "# The outputs of the following two commands confirm this theory\n",
    "# !cat {DATA_DIR}/length10.out | cut -d ' ' -f 1 | sort -n\n",
    "# !cat {DATA_DIR}/length11.out | cut -d ' ' -f 1 | sort -n"
   ]
  },
  {
   "cell_type": "markdown",
   "metadata": {},
   "source": [
    "The question remains. What does full.out contain if not the entire contents of the partitioned data?"
   ]
  },
  {
   "cell_type": "markdown",
   "metadata": {},
   "source": [
    "## How many passwords were leaked?\n",
    "\n",
    "We aren't able to tell from the data how many accounts had their passwords leaked, or if between 2018 and 2019 any leaked passwords were from the same account."
   ]
  },
  {
   "cell_type": "markdown",
   "metadata": {},
   "source": [
    "Using the shell"
   ]
  },
  {
   "cell_type": "code",
   "execution_count": 35,
   "metadata": {},
   "outputs": [
    {
     "name": "stdout",
     "output_type": "stream",
     "text": [
      "57431283"
     ]
    }
   ],
   "source": [
    "!awk -F ' ' '{{s+=$$2}} END {{printf \"%0.f\", s}}' {DATA_DIR}/full.out"
   ]
  },
  {
   "cell_type": "markdown",
   "metadata": {},
   "source": [
    "Using pandas"
   ]
  },
  {
   "cell_type": "code",
   "execution_count": 36,
   "metadata": {},
   "outputs": [],
   "source": [
    "df = pd.read_csv(DATA_DIR/\"full.out\", delimiter=' ', header=None)"
   ]
  },
  {
   "cell_type": "code",
   "execution_count": 38,
   "metadata": {},
   "outputs": [],
   "source": [
    "# rename columns\n",
    "df.columns = [\"password_id\", \"frequency\"]"
   ]
  },
  {
   "cell_type": "code",
   "execution_count": 39,
   "metadata": {},
   "outputs": [
    {
     "data": {
      "text/html": [
       "<div>\n",
       "<style scoped>\n",
       "    .dataframe tbody tr th:only-of-type {\n",
       "        vertical-align: middle;\n",
       "    }\n",
       "\n",
       "    .dataframe tbody tr th {\n",
       "        vertical-align: top;\n",
       "    }\n",
       "\n",
       "    .dataframe thead th {\n",
       "        text-align: right;\n",
       "    }\n",
       "</style>\n",
       "<table border=\"1\" class=\"dataframe\">\n",
       "  <thead>\n",
       "    <tr style=\"text-align: right;\">\n",
       "      <th></th>\n",
       "      <th>password_id</th>\n",
       "      <th>frequency</th>\n",
       "    </tr>\n",
       "  </thead>\n",
       "  <tbody>\n",
       "    <tr>\n",
       "      <th>0</th>\n",
       "      <td>1135934</td>\n",
       "      <td>1</td>\n",
       "    </tr>\n",
       "    <tr>\n",
       "      <th>1</th>\n",
       "      <td>207490</td>\n",
       "      <td>1</td>\n",
       "    </tr>\n",
       "    <tr>\n",
       "      <th>2</th>\n",
       "      <td>188386</td>\n",
       "      <td>1</td>\n",
       "    </tr>\n",
       "    <tr>\n",
       "      <th>3</th>\n",
       "      <td>149910</td>\n",
       "      <td>1</td>\n",
       "    </tr>\n",
       "    <tr>\n",
       "      <th>4</th>\n",
       "      <td>110364</td>\n",
       "      <td>1</td>\n",
       "    </tr>\n",
       "  </tbody>\n",
       "</table>\n",
       "</div>"
      ],
      "text/plain": [
       "   password_id  frequency\n",
       "0      1135934          1\n",
       "1       207490          1\n",
       "2       188386          1\n",
       "3       149910          1\n",
       "4       110364          1"
      ]
     },
     "execution_count": 39,
     "metadata": {},
     "output_type": "execute_result"
    }
   ],
   "source": [
    "df.head()"
   ]
  },
  {
   "cell_type": "code",
   "execution_count": 40,
   "metadata": {},
   "outputs": [
    {
     "data": {
      "text/plain": [
       "57431283"
      ]
     },
     "execution_count": 40,
     "metadata": {},
     "output_type": "execute_result"
    }
   ],
   "source": [
    "# ~57.431 million\n",
    "full_sum = df[\"frequency\"].sum()\n",
    "full_sum"
   ]
  },
  {
   "cell_type": "code",
   "execution_count": 41,
   "metadata": {},
   "outputs": [
    {
     "data": {
      "text/plain": [
       "57431558"
      ]
     },
     "execution_count": 41,
     "metadata": {},
     "output_type": "execute_result"
    }
   ],
   "source": [
    "# According to all other files in the dataset\n",
    "# Shows ~5.431 million\n",
    "merged_ds_shell_sum = !ls {DATA_DIR} | grep -v full.out | xargs -I file cat {DATA_DIR}/file | awk -F ' ' '{{ s+=$$2}} END {{ printf \"%0.f\", s }}'\n",
    "\n",
    "merged_ds_shell_sum = int(merged_ds_shell_sum[0])\n",
    "merged_ds_shell_sum"
   ]
  },
  {
   "cell_type": "code",
   "execution_count": 42,
   "metadata": {},
   "outputs": [
    {
     "data": {
      "text/plain": [
       "275"
      ]
     },
     "execution_count": 42,
     "metadata": {},
     "output_type": "execute_result"
    }
   ],
   "source": [
    "# The frequencies match roughly. The differ by a count of 275, which is tiny in the grand scheme of things\n",
    "abs(merged_ds_shell_sum - full_sum)"
   ]
  },
  {
   "cell_type": "markdown",
   "metadata": {},
   "source": [
    "With the frequencies between full and the partitioned data set matching, I remain curious about the difference in the count of unique password ids in full.out and the partitioned dataset."
   ]
  },
  {
   "cell_type": "markdown",
   "metadata": {},
   "source": [
    "## Visualizing histogram of password length and number of passwords leaked"
   ]
  },
  {
   "cell_type": "code",
   "execution_count": 136,
   "metadata": {},
   "outputs": [],
   "source": [
    "import glob\n",
    "\n",
    "\n",
    "length_unique_pass_counts = {}\n",
    "length_frequency = {}\n",
    "\n",
    "for length_filepath in glob.glob(str(DATA_DIR/\"l*.out\")):\n",
    "    filename = length_filepath.split(\"/\")[-1]\n",
    "    length = int(filename.split(\".\")[0].split(\"length\")[1])\n",
    "    \n",
    "    with open(length_filepath) as f:\n",
    "        lines = list(map(str.strip, f.readlines()))\n",
    "        \n",
    "        length_unique_pass_counts[length] = len(lines)\n",
    "        \n",
    "        total_frequency = 0\n",
    "        for line in lines:\n",
    "            password_id, frequency = map(str.strip, line.split(\" \"))\n",
    "            total_frequency += int(frequency)\n",
    "        \n",
    "        length_frequency[length] = total_frequency\n",
    "        \n",
    "        \n",
    "# print(length_unique_pass_counts)\n",
    "# print(length_frequency)"
   ]
  },
  {
   "cell_type": "code",
   "execution_count": 162,
   "metadata": {},
   "outputs": [],
   "source": [
    "sns.set(rc={\"figure.figsize\":(16, 12)})"
   ]
  },
  {
   "cell_type": "markdown",
   "metadata": {},
   "source": [
    "### Plotting frequencies by password length"
   ]
  },
  {
   "cell_type": "code",
   "execution_count": 169,
   "metadata": {},
   "outputs": [],
   "source": [
    "fbl_x = sorted(length_frequency.keys())\n",
    "fbl_y = list(map(lambda pair: pair[1] / 1_000_000, sorted(length_frequency.items(), key=lambda pair: pair[0])))\n",
    "\n",
    "# print(fbl_x)\n",
    "# print(fbl_y)"
   ]
  },
  {
   "cell_type": "code",
   "execution_count": 170,
   "metadata": {},
   "outputs": [
    {
     "data": {
      "image/png": "[encoded data removed]",
      "text/plain": [
       "<Figure size 1152x864 with 1 Axes>"
      ]
     },
     "metadata": {},
     "output_type": "display_data"
    }
   ],
   "source": [
    "fbl = sns.barplot(x=\"password length (mil)\",\n",
    "                  y=\"frequency\",\n",
    "                  data=pd.DataFrame({\"password length (mil)\": fbl_x, \"frequency\": fbl_y}))\n",
    "\n",
    "fbl.set_xticklabels(fbl.get_xticklabels(), rotation=45);"
   ]
  },
  {
   "cell_type": "markdown",
   "metadata": {},
   "source": [
    "### Plotting line counts by password length"
   ]
  },
  {
   "cell_type": "code",
   "execution_count": 171,
   "metadata": {},
   "outputs": [],
   "source": [
    "lcbl_x = sorted(length_unique_pass_counts.keys())\n",
    "lcbl_y = list(map(lambda pair: pair[1], sorted(length_unique_pass_counts.items(), key=lambda pair: pair[0])))\n",
    "\n",
    "# print(lcbl_x)\n",
    "# print(lcbl_y)"
   ]
  },
  {
   "cell_type": "code",
   "execution_count": 172,
   "metadata": {},
   "outputs": [
    {
     "data": {
      "image/png": "[encoded data removed]",
      "text/plain": [
       "<Figure size 1152x864 with 1 Axes>"
      ]
     },
     "metadata": {},
     "output_type": "display_data"
    }
   ],
   "source": [
    "lcbl = sns.barplot(x=\"password length\",\n",
    "                   y=\"count\",\n",
    "                  data=pd.DataFrame({\"password length\": lcbl_x, \"count\": lcbl_y}))\n",
    "\n",
    "lcbl.set_xticklabels(lcbl.get_xticklabels(), rotation=45);"
   ]
  },
  {
   "cell_type": "markdown",
   "metadata": {},
   "source": [
    "The visualized data clearly confirms my expectation that most passwords are on the \"short\" end of the spectrum.\n",
    "\n",
    "After all, who doesn't like a short, memorable password? :D"
   ]
  },
  {
   "cell_type": "markdown",
   "metadata": {},
   "source": [
    "# Conclusion\n",
    "\n",
    "This dataset was sparse in information. I didn't glean any new or interesting insight by exploring and analyzing the data. Furthermore, the data quality is questionable given the discrepancy observed in the record counts between the full.out file and the merged partioned data.\n",
    "\n",
    "The similarity between the total password frequency in full.out and the merged partitioned data is likely coincidental."
   ]
  },
  {
   "cell_type": "code",
   "execution_count": null,
   "metadata": {},
   "outputs": [],
   "source": []
  }
 ],
 "metadata": {
  "kernelspec": {
   "display_name": "Python 3",
   "language": "python",
   "name": "python3"
  },
  "language_info": {
   "codemirror_mode": {
    "name": "ipython",
    "version": 3
   },
   "file_extension": ".py",
   "mimetype": "text/x-python",
   "name": "python",
   "nbconvert_exporter": "python",
   "pygments_lexer": "ipython3",
   "version": "3.7.9"
  }
 },
 "nbformat": 4,
 "nbformat_minor": 4
}
