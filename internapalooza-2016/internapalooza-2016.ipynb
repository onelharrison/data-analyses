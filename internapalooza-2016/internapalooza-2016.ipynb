{
 "cells": [
  {
   "cell_type": "markdown",
   "metadata": {
    "nbpresent": {
     "id": "8ec8ae56-ebcd-4c8f-a8b1-73612211a847"
    }
   },
   "source": [
    "<h1 style=\"text-align: center;\">Internapalooza 2016 Registration Data Analysis</h1>\n",
    "<hr/>\n",
    "## Background\n",
    "\n",
    "In the summer of 2016, [Internapalooza](http://www.internapalooza.com/) hosted an enormous event where thousands of interns from across the world gathered in the San Francisco Bay Area to interact with each other, learn about some of the latest technolgies and ideas in the tech industry, and meet amazing companies. The data I'm analysing in this notebook is the data Internaplooza collected from the event registration form on their website.\n",
    "\n",
    "I received an email from one of the Internapalooza organizers about a month ago that included a link to the data set I'm analysing here. The email also included a request to speak over the phone about having the company I'm currently working at be a participant in the event. I decided to pitched the idea of having our company participate at Internapalooza to my superiors, but not before analysing the data that had been given to me. The complete data set can be found [here](https://airtable.com/shrq8PvXTZuoMofJ0)."
   ]
  },
  {
   "cell_type": "code",
   "execution_count": 930,
   "metadata": {
    "collapsed": false,
    "nbpresent": {
     "id": "6f73de9c-b8dc-4546-a568-10dd9285ea51"
    }
   },
   "outputs": [],
   "source": [
    "%matplotlib inline\n",
    "import pandas as pd\n",
    "import numpy as np\n",
    "import matplotlib.pyplot as plt\n",
    "import matplotlib.mlab as mlab\n",
    "\n",
    "# Load internapalooza 2016 resume book data from csv file\n",
    "df = pd.read_csv('internapalooza-2016-resume-book.csv')"
   ]
  },
  {
   "cell_type": "markdown",
   "metadata": {
    "nbpresent": {
     "id": "a8ee5a50-666a-4100-821b-1f68f933bc99"
    }
   },
   "source": [
    "## Data Description\n",
    "\n",
    "All the data in data set pertains to the interns who registered for the Internapalooza event in the Summer of 2016. Most of the fields in the data set are self-explanatory and a description is provided below for fields with meanings that might need clarification.\n",
    "\n",
    "| Field  | Data Type | Description  |\n",
    "| ------ | --------- | ------------ | \n",
    "| First Name | text | | \n",
    "| Last Name | text | |\n",
    "| Email | text | |\n",
    "| Resume | text | |\n",
    "| Major | text | |\n",
    "| Company | text | |\n",
    "| University | text | |\n",
    "| Job Title | text | |\n",
    "| Graduation Year | numeric | |\n",
    "| Gender | text | |\n",
    "| Ethnicity origin (or Race) | text | |\n",
    "| GPA | numeric | The intern's grade point average (GPA), assumed to be on the 4.0 scale |\n",
    "| Are you working on any side projects, companies, or dreams? Please share if so! | text | |\n",
    "| Created | date | The date on which the intern submitted their information throught Internapalooza's online registration form.\n",
    "\n",
    "Internapalooza made an attempt at anonymising the data, which means that records for the `First Name`, `Last Name`, `Email`, and `Resume` fields were emptied or made irrelevant by filling them with garbage data (as is the case for the `Resume` field)."
   ]
  },
  {
   "cell_type": "code",
   "execution_count": 931,
   "metadata": {
    "collapsed": false,
    "nbpresent": {
     "id": "fa054bb6-9c90-422b-a0c9-0b8f47c10c6e"
    }
   },
   "outputs": [
    {
     "data": {
      "text/html": [
       "<div>\n",
       "<table border=\"1\" class=\"dataframe\">\n",
       "  <thead>\n",
       "    <tr style=\"text-align: right;\">\n",
       "      <th></th>\n",
       "      <th>﻿First Name</th>\n",
       "      <th>Last Name</th>\n",
       "      <th>Email</th>\n",
       "      <th>Resume</th>\n",
       "      <th>Major</th>\n",
       "      <th>Company</th>\n",
       "      <th>University</th>\n",
       "      <th>Job Title</th>\n",
       "      <th>Graduation Year</th>\n",
       "      <th>Gender</th>\n",
       "      <th>Ethnicity origin (or Race)</th>\n",
       "      <th>GPA</th>\n",
       "      <th>Are you working on any side projects, companies, or dreams? Please share if so!</th>\n",
       "      <th>Created</th>\n",
       "    </tr>\n",
       "  </thead>\n",
       "  <tbody>\n",
       "    <tr>\n",
       "      <th>0</th>\n",
       "      <td>NaN</td>\n",
       "      <td>NaN</td>\n",
       "      <td>NaN</td>\n",
       "      <td>rsvp.a7d.AngieYueShen_Resume_20160710.pdf (htt...</td>\n",
       "      <td>Software Engineering</td>\n",
       "      <td>Juniper Networks</td>\n",
       "      <td>San Jose State University</td>\n",
       "      <td>Cloud Infrastructure Engineer Intern</td>\n",
       "      <td>2016.0</td>\n",
       "      <td>Female</td>\n",
       "      <td>Asian / Pacific Islander</td>\n",
       "      <td>4.0</td>\n",
       "      <td>NaN</td>\n",
       "      <td>7/12/2016</td>\n",
       "    </tr>\n",
       "    <tr>\n",
       "      <th>1</th>\n",
       "      <td>NaN</td>\n",
       "      <td>NaN</td>\n",
       "      <td>NaN</td>\n",
       "      <td>rsvp.a7d.AngieYueShen_Resume_20160710.pdf (htt...</td>\n",
       "      <td>Computer Science</td>\n",
       "      <td>Riverbed Technology</td>\n",
       "      <td>Stony Brook University</td>\n",
       "      <td>Software Engineer</td>\n",
       "      <td>2016.0</td>\n",
       "      <td>Female</td>\n",
       "      <td>Asian / Pacific Islander</td>\n",
       "      <td>4.0</td>\n",
       "      <td>NaN</td>\n",
       "      <td>7/12/2016</td>\n",
       "    </tr>\n",
       "    <tr>\n",
       "      <th>2</th>\n",
       "      <td>NaN</td>\n",
       "      <td>NaN</td>\n",
       "      <td>NaN</td>\n",
       "      <td>rsvp.a7d.AngieYueShen_Resume_20160710.pdf (htt...</td>\n",
       "      <td>Computer Sciences</td>\n",
       "      <td>Stanford University</td>\n",
       "      <td>Stanford University</td>\n",
       "      <td>Graduate Student</td>\n",
       "      <td>2016.0</td>\n",
       "      <td>Male</td>\n",
       "      <td>Asian / Pacific Islander</td>\n",
       "      <td>4.0</td>\n",
       "      <td>A project to help improve the on-boarding of s...</td>\n",
       "      <td>7/12/2016</td>\n",
       "    </tr>\n",
       "  </tbody>\n",
       "</table>\n",
       "</div>"
      ],
      "text/plain": [
       "   ﻿First Name  Last Name  Email  \\\n",
       "0          NaN        NaN    NaN   \n",
       "1          NaN        NaN    NaN   \n",
       "2          NaN        NaN    NaN   \n",
       "\n",
       "                                              Resume                 Major  \\\n",
       "0  rsvp.a7d.AngieYueShen_Resume_20160710.pdf (htt...  Software Engineering   \n",
       "1  rsvp.a7d.AngieYueShen_Resume_20160710.pdf (htt...      Computer Science   \n",
       "2  rsvp.a7d.AngieYueShen_Resume_20160710.pdf (htt...     Computer Sciences   \n",
       "\n",
       "               Company                 University  \\\n",
       "0     Juniper Networks  San Jose State University   \n",
       "1  Riverbed Technology     Stony Brook University   \n",
       "2  Stanford University        Stanford University   \n",
       "\n",
       "                              Job Title  Graduation Year  Gender  \\\n",
       "0  Cloud Infrastructure Engineer Intern           2016.0  Female   \n",
       "1                     Software Engineer           2016.0  Female   \n",
       "2                      Graduate Student           2016.0    Male   \n",
       "\n",
       "  Ethnicity origin (or Race)  GPA  \\\n",
       "0   Asian / Pacific Islander  4.0   \n",
       "1   Asian / Pacific Islander  4.0   \n",
       "2   Asian / Pacific Islander  4.0   \n",
       "\n",
       "  Are you working on any side projects, companies, or dreams? Please share if so!  \\\n",
       "0                                                NaN                                \n",
       "1                                                NaN                                \n",
       "2  A project to help improve the on-boarding of s...                                \n",
       "\n",
       "     Created  \n",
       "0  7/12/2016  \n",
       "1  7/12/2016  \n",
       "2  7/12/2016  "
      ]
     },
     "execution_count": 931,
     "metadata": {},
     "output_type": "execute_result"
    }
   ],
   "source": [
    "# Show the first three records of the data set\n",
    "df.head(3)"
   ]
  },
  {
   "cell_type": "code",
   "execution_count": 932,
   "metadata": {
    "collapsed": false,
    "nbpresent": {
     "id": "95227de2-1e3b-4e63-9437-4b9d7c42c5ac"
    }
   },
   "outputs": [
    {
     "data": {
      "text/html": [
       "<div>\n",
       "<table border=\"1\" class=\"dataframe\">\n",
       "  <thead>\n",
       "    <tr style=\"text-align: right;\">\n",
       "      <th></th>\n",
       "      <th>﻿First Name</th>\n",
       "      <th>Last Name</th>\n",
       "      <th>Email</th>\n",
       "      <th>Resume</th>\n",
       "      <th>Major</th>\n",
       "      <th>Company</th>\n",
       "      <th>University</th>\n",
       "      <th>Job Title</th>\n",
       "      <th>Graduation Year</th>\n",
       "      <th>Gender</th>\n",
       "      <th>Ethnicity origin (or Race)</th>\n",
       "      <th>GPA</th>\n",
       "      <th>Are you working on any side projects, companies, or dreams? Please share if so!</th>\n",
       "      <th>Created</th>\n",
       "    </tr>\n",
       "  </thead>\n",
       "  <tbody>\n",
       "    <tr>\n",
       "      <th>4959</th>\n",
       "      <td>NaN</td>\n",
       "      <td>NaN</td>\n",
       "      <td>NaN</td>\n",
       "      <td>rsvp.a7d.AngieYueShen_Resume_20160710.pdf (htt...</td>\n",
       "      <td>Computer Science</td>\n",
       "      <td>Apple</td>\n",
       "      <td>University Of California, Davis</td>\n",
       "      <td>Software Engineering Intern</td>\n",
       "      <td>2016.0</td>\n",
       "      <td>Male</td>\n",
       "      <td>White</td>\n",
       "      <td>3.0</td>\n",
       "      <td>NaN</td>\n",
       "      <td>4/18/2016</td>\n",
       "    </tr>\n",
       "    <tr>\n",
       "      <th>4960</th>\n",
       "      <td>NaN</td>\n",
       "      <td>NaN</td>\n",
       "      <td>NaN</td>\n",
       "      <td>rsvp.a7d.AngieYueShen_Resume_20160710.pdf (htt...</td>\n",
       "      <td>Computer Engineering and Computer Science</td>\n",
       "      <td>Slack</td>\n",
       "      <td>University of Michigan</td>\n",
       "      <td>Frontend Engineering intern</td>\n",
       "      <td>2017.0</td>\n",
       "      <td>Male</td>\n",
       "      <td>Black or African American</td>\n",
       "      <td>3.0</td>\n",
       "      <td>Yes</td>\n",
       "      <td>4/18/2016</td>\n",
       "    </tr>\n",
       "    <tr>\n",
       "      <th>4961</th>\n",
       "      <td>NaN</td>\n",
       "      <td>NaN</td>\n",
       "      <td>NaN</td>\n",
       "      <td>rsvp.a7d.AngieYueShen_Resume_20160710.pdf (htt...</td>\n",
       "      <td>Electrical and Computer Engineering &amp; Human Co...</td>\n",
       "      <td>Fitbit</td>\n",
       "      <td>Carnegie Mellon University</td>\n",
       "      <td>Software Engineering Intern</td>\n",
       "      <td>2017.0</td>\n",
       "      <td>Male</td>\n",
       "      <td>White</td>\n",
       "      <td>3.0</td>\n",
       "      <td>NaN</td>\n",
       "      <td>4/18/2016</td>\n",
       "    </tr>\n",
       "  </tbody>\n",
       "</table>\n",
       "</div>"
      ],
      "text/plain": [
       "      ﻿First Name  Last Name  Email  \\\n",
       "4959          NaN        NaN    NaN   \n",
       "4960          NaN        NaN    NaN   \n",
       "4961          NaN        NaN    NaN   \n",
       "\n",
       "                                                 Resume  \\\n",
       "4959  rsvp.a7d.AngieYueShen_Resume_20160710.pdf (htt...   \n",
       "4960  rsvp.a7d.AngieYueShen_Resume_20160710.pdf (htt...   \n",
       "4961  rsvp.a7d.AngieYueShen_Resume_20160710.pdf (htt...   \n",
       "\n",
       "                                                  Major Company  \\\n",
       "4959                                   Computer Science   Apple   \n",
       "4960          Computer Engineering and Computer Science   Slack   \n",
       "4961  Electrical and Computer Engineering & Human Co...  Fitbit   \n",
       "\n",
       "                           University                    Job Title  \\\n",
       "4959  University Of California, Davis  Software Engineering Intern   \n",
       "4960           University of Michigan  Frontend Engineering intern   \n",
       "4961       Carnegie Mellon University  Software Engineering Intern   \n",
       "\n",
       "      Graduation Year Gender Ethnicity origin (or Race)  GPA  \\\n",
       "4959           2016.0   Male                      White  3.0   \n",
       "4960           2017.0   Male  Black or African American  3.0   \n",
       "4961           2017.0   Male                      White  3.0   \n",
       "\n",
       "     Are you working on any side projects, companies, or dreams? Please share if so!  \\\n",
       "4959                                                NaN                                \n",
       "4960                                                Yes                                \n",
       "4961                                                NaN                                \n",
       "\n",
       "        Created  \n",
       "4959  4/18/2016  \n",
       "4960  4/18/2016  \n",
       "4961  4/18/2016  "
      ]
     },
     "execution_count": 932,
     "metadata": {},
     "output_type": "execute_result"
    }
   ],
   "source": [
    "# Show the last 3 records of the data set\n",
    "df.tail(3)"
   ]
  },
  {
   "cell_type": "code",
   "execution_count": 933,
   "metadata": {
    "collapsed": false,
    "nbpresent": {
     "id": "09237abf-c169-4292-9336-34d25f108c9f"
    }
   },
   "outputs": [
    {
     "name": "stdout",
     "output_type": "stream",
     "text": [
      "Number of records:  4962\n"
     ]
    }
   ],
   "source": [
    "# Show the number of records in the data set\n",
    "records_count = df.shape[0]\n",
    "print('Number of records: ', records_count)"
   ]
  },
  {
   "cell_type": "markdown",
   "metadata": {},
   "source": [
    "## Cleaning the Data\n",
    "---"
   ]
  },
  {
   "cell_type": "code",
   "execution_count": 934,
   "metadata": {
    "collapsed": false
   },
   "outputs": [
    {
     "data": {
      "text/html": [
       "<div>\n",
       "<table border=\"1\" class=\"dataframe\">\n",
       "  <thead>\n",
       "    <tr style=\"text-align: right;\">\n",
       "      <th></th>\n",
       "      <th>Major</th>\n",
       "      <th>Company</th>\n",
       "      <th>University</th>\n",
       "      <th>Job Title</th>\n",
       "      <th>Graduation Year</th>\n",
       "      <th>Gender</th>\n",
       "      <th>Ethnicity origin (or Race)</th>\n",
       "      <th>GPA</th>\n",
       "      <th>Are you working on any side projects, companies, or dreams? Please share if so!</th>\n",
       "      <th>Created</th>\n",
       "    </tr>\n",
       "  </thead>\n",
       "  <tbody>\n",
       "    <tr>\n",
       "      <th>0</th>\n",
       "      <td>Software Engineering</td>\n",
       "      <td>Juniper Networks</td>\n",
       "      <td>San Jose State University</td>\n",
       "      <td>Cloud Infrastructure Engineer Intern</td>\n",
       "      <td>2016.0</td>\n",
       "      <td>Female</td>\n",
       "      <td>Asian / Pacific Islander</td>\n",
       "      <td>4.0</td>\n",
       "      <td>NaN</td>\n",
       "      <td>7/12/2016</td>\n",
       "    </tr>\n",
       "    <tr>\n",
       "      <th>1</th>\n",
       "      <td>Computer Science</td>\n",
       "      <td>Riverbed Technology</td>\n",
       "      <td>Stony Brook University</td>\n",
       "      <td>Software Engineer</td>\n",
       "      <td>2016.0</td>\n",
       "      <td>Female</td>\n",
       "      <td>Asian / Pacific Islander</td>\n",
       "      <td>4.0</td>\n",
       "      <td>NaN</td>\n",
       "      <td>7/12/2016</td>\n",
       "    </tr>\n",
       "    <tr>\n",
       "      <th>2</th>\n",
       "      <td>Computer Sciences</td>\n",
       "      <td>Stanford University</td>\n",
       "      <td>Stanford University</td>\n",
       "      <td>Graduate Student</td>\n",
       "      <td>2016.0</td>\n",
       "      <td>Male</td>\n",
       "      <td>Asian / Pacific Islander</td>\n",
       "      <td>4.0</td>\n",
       "      <td>A project to help improve the on-boarding of s...</td>\n",
       "      <td>7/12/2016</td>\n",
       "    </tr>\n",
       "  </tbody>\n",
       "</table>\n",
       "</div>"
      ],
      "text/plain": [
       "                  Major              Company                 University  \\\n",
       "0  Software Engineering     Juniper Networks  San Jose State University   \n",
       "1      Computer Science  Riverbed Technology     Stony Brook University   \n",
       "2     Computer Sciences  Stanford University        Stanford University   \n",
       "\n",
       "                              Job Title  Graduation Year  Gender  \\\n",
       "0  Cloud Infrastructure Engineer Intern           2016.0  Female   \n",
       "1                     Software Engineer           2016.0  Female   \n",
       "2                      Graduate Student           2016.0    Male   \n",
       "\n",
       "  Ethnicity origin (or Race)  GPA  \\\n",
       "0   Asian / Pacific Islander  4.0   \n",
       "1   Asian / Pacific Islander  4.0   \n",
       "2   Asian / Pacific Islander  4.0   \n",
       "\n",
       "  Are you working on any side projects, companies, or dreams? Please share if so!  \\\n",
       "0                                                NaN                                \n",
       "1                                                NaN                                \n",
       "2  A project to help improve the on-boarding of s...                                \n",
       "\n",
       "     Created  \n",
       "0  7/12/2016  \n",
       "1  7/12/2016  \n",
       "2  7/12/2016  "
      ]
     },
     "execution_count": 934,
     "metadata": {},
     "output_type": "execute_result"
    }
   ],
   "source": [
    "# Remove 'First Name', 'Last Name', 'Email', and 'Resume' fields\n",
    "df2 = df.copy()[df.columns.values[4:]]\n",
    "df2.head(3)"
   ]
  },
  {
   "cell_type": "code",
   "execution_count": 935,
   "metadata": {
    "collapsed": false,
    "nbpresent": {
     "id": "4d87e665-e7da-464e-bf14-f2d6044bf5b0"
    },
    "scrolled": true
   },
   "outputs": [],
   "source": [
    "def print_unique(df, field_name):\n",
    "    print(\"Unique '%s' values:\" % (field_name))\n",
    "    unique_values = df[field_name].unique()\n",
    "    for value in unique_values:\n",
    "        print('*', value)\n",
    "    print()\n",
    "\n",
    "# What are all the unique values of the 'Major' field?\n",
    "# major_values = list(data['Major'].unique())\n",
    "# print_unique(df2, major_values)\n",
    "\n",
    "# What are all the unique values of the 'Company' field?\n",
    "# company_values = list(data['Company'].unique())\n",
    "# print_unique(df2, company_values)\n",
    "\n",
    "# What are all the unique values of the 'University' field?\n",
    "# university_values = list(data['University'].unique())\n",
    "# print_unique(df2, university_values)\n",
    "\n",
    "# What are all the unique values of the 'Job Title' field?\n",
    "# job_title_values = list(data['Job Title'].unique())\n",
    "# print_unique(df2, job_title_values)\n",
    "\n",
    "# What are all the unique values of the 'Graduation Year' field?\n",
    "# print_unique(df2, 'Graduation Year')\n",
    "\n",
    "# What are all the unique values of the 'Gender' field?\n",
    "# print_unique(df2, 'Gender')\n",
    "\n",
    "# What are all the unique values of the 'Ethnicity origin (or Race)' field?\n",
    "# print_unique(df2, 'Ethnicity origin (or Race)')\n",
    "\n",
    "# What are all the unique values of the 'GPA' field?\n",
    "# print_unique(df2, 'GPA')"
   ]
  },
  {
   "cell_type": "markdown",
   "metadata": {},
   "source": [
    "The above print outs of unique values for most of the fields in the data set shows that the data is imperfect and requires cleaning. The data set contains missing values (NaN) and out-of-bounds or unreasonable data in the case of the `GPA` field."
   ]
  },
  {
   "cell_type": "code",
   "execution_count": 936,
   "metadata": {
    "collapsed": false
   },
   "outputs": [],
   "source": [
    "# Fill out-of-bounds and unreasonable GPA values with NaN\n",
    "for index in range(records_count):\n",
    "    gpa_val = df2.loc[index, 'GPA']\n",
    "    if gpa_val > 4 or gpa_val < 2:\n",
    "        df2.loc[index,'GPA'] = np.nan\n",
    "        \n",
    "# Rough cleaning of the 'University' field until I learn a better way\n",
    "for index in range(records_count):\n",
    "    university_val = df2.loc[index, 'University']\n",
    "    if university_val in ['UC Berkeley', 'University of California - Berkeley', 'uc berekeley']:\n",
    "        df2.loc[index, 'University'] = 'University of California, Berkeley'\n",
    "    elif university_val in ['UCSD', 'UC San Diego']:\n",
    "        df2.loc[index, 'University'] = 'University of California, San Diego'\n",
    "    elif university_val in ['UCLA']:\n",
    "        df2.loc[index, 'University'] = 'University of California, Los Angeles'\n",
    "    elif university_val in ['Caltech', 'caltech']:\n",
    "        df2.loc[index, 'University'] = 'California Institute of Technology'\n",
    "    elif university_val in ['Carnegie Mellon', 'CMU', 'carnegie mellon']:\n",
    "        df2.loc[index, 'University'] = 'Carnegie Mellon University'\n",
    "    elif university_val in ['Cornell', 'cornell']:\n",
    "        df2.loc[index, 'University'] = 'Cornell University'\n",
    "    elif university_val in ['Stanford', 'stanford']:\n",
    "        df2.loc[index, 'University'] = 'Stanford University'\n",
    "    elif university_val in ['ASU', 'Arizona State', 'Arizona State university', 'Arizona State Univeristy']:\n",
    "        df2.loc[index, 'University'] = 'Arizona State University'\n",
    "    elif university_val in ['Duke', 'duke']:\n",
    "        df2.loc[index, 'University'] = 'Duke University'\n",
    "    elif university_val in ['Purdue']:\n",
    "        df2.loc[index, 'University'] = 'Purdue University'\n",
    "    elif university_val in ['San Jose State']:\n",
    "        df2.loc[index, 'University'] = 'San Jose State University'\n",
    "    elif university_val in ['Brown']:\n",
    "        df2.loc[index, 'University'] = 'Brown University'\n",
    "    elif university_val in ['UPenn']:\n",
    "        df2.loc[index, 'University'] = 'University of Pennsylvania'\n",
    "    elif university_val in ['MIT']:\n",
    "        df2.loc[index, 'University'] = 'Massachusetts Institute of Technology'\n",
    "    elif university_val in ['Harvard']:\n",
    "        df2.loc[index, 'University'] = 'Harvard University'\n",
    "    elif university_val in ['NYU']:\n",
    "        df2.loc[index, 'University'] = 'New York University'"
   ]
  },
  {
   "cell_type": "code",
   "execution_count": 937,
   "metadata": {
    "collapsed": false
   },
   "outputs": [
    {
     "name": "stdout",
     "output_type": "stream",
     "text": [
      "The mean GPA among interns is: 3.67\n",
      "The median GPA among interns is: 4.00\n",
      "The mode GPA among interns is: 4.00\n"
     ]
    }
   ],
   "source": [
    "intern_gpas = df2['GPA']\n",
    "print('The mean GPA among interns is: %.2f' % (intern_gpas.mean()))\n",
    "print('The median GPA among interns is: %.2f' % (intern_gpas.median()))\n",
    "print('The mode GPA among interns is: %.2f' % (intern_gpas.mode()))"
   ]
  },
  {
   "cell_type": "markdown",
   "metadata": {},
   "source": [
    "### Probabilities for Intern GPAs"
   ]
  },
  {
   "cell_type": "code",
   "execution_count": 938,
   "metadata": {
    "collapsed": false
   },
   "outputs": [
    {
     "name": "stdout",
     "output_type": "stream",
     "text": [
      "Note: 4580/4962 GPA values are valid. That is, 92.30% of GPA values are used in calculations.\n"
     ]
    },
    {
     "data": {
      "image/png": "[encoded data removed]",
      "text/plain": [
       "<matplotlib.figure.Figure at 0x14d5415e710>"
      ]
     },
     "metadata": {},
     "output_type": "display_data"
    }
   ],
   "source": [
    "valid_gpas = df2[ intern_gpas.notnull() ]['GPA']\n",
    "valid_gpa_count = valid_gpas.shape[0]\n",
    "valid_gpa_percentage = valid_gpa_count / records_count * 100\n",
    "valid_gpa_vals = valid_gpas.values\n",
    "\n",
    "print('Note: %d/%d GPA values are valid. That is, %.2f%% of GPA values are used in calculations.' %\n",
    "      (valid_gpa_count, records_count, valid_gpa_percentage))\n",
    "\n",
    "mu, sigma = valid_gpa_vals.mean(), np.std(valid_gpa_vals)\n",
    "\n",
    "# the histogram of the data\n",
    "plt.figure(figsize=(10, 7), dpi=100)\n",
    "n, bins, patches = plt.hist(valid_gpa_vals, bins=4, normed=True, facecolor='green', alpha=0.75)\n",
    "\n",
    "# add a 'best fit' line\n",
    "y = mlab.normpdf(bins, mu, sigma)\n",
    "plt.plot(bins, y, 'r--', linewidth=1)\n",
    "\n",
    "plt.xlabel('Intern Grade Point Average')\n",
    "plt.ylabel('Density')\n",
    "plt.title(r'$\\mathrm{Probability\\ Distribution\\ of\\ Intern\\ GPAs:}\\ \\mu=%.2f,\\ \\sigma=%.2f$' % (mu, sigma))\n",
    "plt.grid(True)\n",
    "plt.show()"
   ]
  },
  {
   "cell_type": "markdown",
   "metadata": {},
   "source": [
    "### Top 25 Universities\n",
    "- What are the 25 Universies with the most interns registered for Internapalooza?"
   ]
  },
  {
   "cell_type": "code",
   "execution_count": 939,
   "metadata": {
    "collapsed": false
   },
   "outputs": [
    {
     "data": {
      "text/plain": [
       "University\n",
       "University of California, Berkeley            291\n",
       "Carnegie Mellon University                    183\n",
       "San Jose State University                     164\n",
       "University of California, San Diego           156\n",
       "University of Southern California             130\n",
       "Stanford University                           121\n",
       "Georgia Institute of Technology               106\n",
       "University of Waterloo                        101\n",
       "University of California, Los Angeles          83\n",
       "Massachusetts Institute of Technology          81\n",
       "Cornell University                             72\n",
       "Duke University                                63\n",
       "University of Pennsylvania                     60\n",
       "Brown University                               54\n",
       "University of Michigan                         52\n",
       "University of Texas at Austin                  50\n",
       "Purdue University                              49\n",
       "Columbia University                            49\n",
       "University of Washington                       47\n",
       "University of Illinois at Urbana-Champaign     46\n",
       "Arizona State University                       43\n",
       "Harvard University                             43\n",
       "Santa Clara University                         38\n",
       "Princeton University                           34\n",
       "The University of Texas at Austin              33\n",
       "dtype: int64"
      ]
     },
     "execution_count": 939,
     "metadata": {},
     "output_type": "execute_result"
    }
   ],
   "source": [
    "# Top 10 Universities\n",
    "# This is a rough estimate of the top 25 universities represented among registered interns\n",
    "# Better cleaning procedures on the 'University' field will yield a more accurate listing.\n",
    "# But, I predict the rankings will not be drastically different\n",
    "df2.groupby(['University']).size().sort_values(ascending=False)[:25]"
   ]
  },
  {
   "cell_type": "markdown",
   "metadata": {},
   "source": [
    "### Intern Gender Proportions\n",
    "- What proportion of interns idenfied as Male, Female, or Other?"
   ]
  },
  {
   "cell_type": "code",
   "execution_count": 940,
   "metadata": {
    "collapsed": false,
    "nbpresent": {
     "id": "d7c95eea-871e-479b-a432-5049a8d7caa9"
    }
   },
   "outputs": [
    {
     "data": {
      "image/png": "[encoded data removed]",
      "text/plain": [
       "<matplotlib.figure.Figure at 0x14d5058f208>"
      ]
     },
     "metadata": {},
     "output_type": "display_data"
    }
   ],
   "source": [
    "def bar(df, plt, field_names, title='', gw=10, bw=0.5):\n",
    "    plt.figure(figsize=(gw, 7), dpi=100)\n",
    "    breakdown = df.groupby(field_names).size()\n",
    "    y_values = breakdown.values\n",
    "    x_values = range(len(y_values))\n",
    "    x_ticks = breakdown.index\n",
    "    y_max = max(y_values)\n",
    "    y_upper_lim = y_max + 0.10 * y_max\n",
    "    \n",
    "    plt.suptitle(title, fontsize=14, fontweight='bold')\n",
    "    plt.bar(x_values, y_values, align='center', width=bw)\n",
    "    plt.xticks(x_values, x_ticks, rotation=45, ha='right')\n",
    "    plt.ylim([0, y_upper_lim])\n",
    "    \n",
    "    plt = label_bar(plt, x_values, y_values)\n",
    "    plt.show()\n",
    "\n",
    "def label_bar(plt, x_values, y_values, decimals = 2, units = 1000, suffix = 'K'):\n",
    "    total_records = sum(y_values)\n",
    "    for x, y in zip(x_values, y_values):\n",
    "        percentage = y / float(total_records) * 100\n",
    "        if y >= units:\n",
    "            label = str(round(y / float(units), decimals)) + suffix\n",
    "        else:\n",
    "            label = str(y)\n",
    "        plt.text(x, y, \"%s (%.1f%%)\" % (label, percentage), ha='center', va='bottom')\n",
    "    return plt\n",
    "\n",
    "gender_bar_title = '2016 SF Internapalooza Gender Frequency Distribution'\n",
    "bar(df2, plt, field_names=['Gender'], title=gender_bar_title)"
   ]
  },
  {
   "cell_type": "markdown",
   "metadata": {},
   "source": [
    "### Intern Ethicity/Race Proportions\n",
    "\n",
    "What proportion of interns idenfied among the following ethnicities or races?\n",
    "* Asian / Pacific Islander\n",
    "* Black or African American\n",
    "* Hispanic or Latino\n",
    "* Native American or American Indian\n",
    "* White\n",
    "* Other"
   ]
  },
  {
   "cell_type": "code",
   "execution_count": 941,
   "metadata": {
    "collapsed": false
   },
   "outputs": [
    {
     "data": {
      "image/png": "[encoded data removed]",
      "text/plain": [
       "<matplotlib.figure.Figure at 0x14d4fc41240>"
      ]
     },
     "metadata": {},
     "output_type": "display_data"
    }
   ],
   "source": [
    "eor_bar_title = '2016 SF Internapalooza Ethnicity/Race Frequency Distribution'\n",
    "eor_bar_field_names = ['Ethnicity origin (or Race)']\n",
    "bar(df2, plt, field_names=eor_bar_field_names, title=eor_bar_title)"
   ]
  },
  {
   "cell_type": "markdown",
   "metadata": {
    "nbpresent": {
     "id": "c234dd43-d519-4512-aeef-0e457baf50c1"
    }
   },
   "source": [
    "## Assumptions\n",
    "---\n",
    "I assumed that the reported `GPA` values were on the 4.0 scale. This assumption underlies my decision to only analyse `GPA` values that are non-negative, non-zero, and less than 4. I also assumed that it's unlikely that a university would have a student enrolled with a `GPA` less than 2. This led me to discard values between 0 (inclusive) and 2 (exclusive) from the pool of valid `GPA`s.\n",
    "\n",
    "\n",
    "## Conclusion and Recommendations\n",
    "---\n",
    "\n",
    "Nearly 5000 interns registered for the Internapalooza event in Summer 2016. The gross majority of registered interns were White or Asian males, coming from a predictable list of universities often associated with top performing tech talent. However, I remain skeptical of the data provided in the `GPA` field. I was surprised at the lack of variation in `GPA` values. Valid `GPA` values were either 2, 3, or 4, with the majority (67.8%) being 4s. That said, the data indicated that the probability of a registered intern having a `GPA` between 3.0 and 4.0 is roughly 1.\n",
    "\n",
    "Internapalooza could use the following recommendations to improve the quality of the data they collect. \n",
    "* Enforce a range limit on fields such as the `GPA` field to ensure the values are normative.\n",
    "* Allow registrants to choose from/add to a searchable list of job titles, schools, and companies so that the collected data will be more standardised. This would also minimize the input of different values that mean the same thing, eg. Twitter, Inc and Twitter for the `Company` field, or UCLA and University of California, Los Angeles for the `University` field.\n",
    "\n",
    "This analysis can be further improved by implementing better means of cleaning the `University` or `Company` fields. Additionally, I could have extracted more information from these two fields, including the ratio of Science, Technology, Engineering, and Mathematics (STEM) interns to non-STEM interns. I could have also investigated the peak registration time for interns using the `Created` field. But, with time as a major constraint, these improvents were left undone."
   ]
  },
  {
   "cell_type": "markdown",
   "metadata": {},
   "source": [
    "## Have a Laugh\n",
    "---"
   ]
  },
  {
   "cell_type": "code",
   "execution_count": 942,
   "metadata": {
    "collapsed": false
   },
   "outputs": [],
   "source": [
    "dfx = df.copy()\n",
    "dfx = dfx[dfx.columns.values[4:-1]]"
   ]
  },
  {
   "cell_type": "code",
   "execution_count": 943,
   "metadata": {
    "collapsed": false
   },
   "outputs": [
    {
     "data": {
      "text/plain": [
       "Major                                                                              Inspecting Higgs-Bosons\n",
       "Company                                                                                           Ur M. Om\n",
       "University                                                                                     Higgs-Boson\n",
       "Job Title                                                                              Astronomy Inspector\n",
       "Graduation Year                                                                                       2021\n",
       "Gender                                                                                               Other\n",
       "Ethnicity origin (or Race)                                                                           White\n",
       "GPA                                                                                                      1\n",
       "Are you working on any side projects, companies, or dreams? Please share if so!          I have a dream...\n",
       "Name: 1039, dtype: object"
      ]
     },
     "execution_count": 943,
     "metadata": {},
     "output_type": "execute_result"
    }
   ],
   "source": [
    "# To the Astronomy Inspector who admires MLK and inspects Higgs-Bosons at Ur M. Om\n",
    "dfx.iloc[1039]"
   ]
  },
  {
   "cell_type": "code",
   "execution_count": 944,
   "metadata": {
    "collapsed": false
   },
   "outputs": [
    {
     "data": {
      "text/plain": [
       "Major                                                                              Tropicana is 100% orange juice\n",
       "Company                                                                                                    Toptal\n",
       "University                                                                                             Utah State\n",
       "Job Title                                                                                                  Intern\n",
       "Graduation Year                                                                                              2018\n",
       "Gender                                                                                                      Other\n",
       "Ethnicity origin (or Race)                                                                                  Other\n",
       "GPA                                                                                                          9001\n",
       "Are you working on any side projects, companies, or dreams? Please share if so!                          for sure\n",
       "Name: 181, dtype: object"
      ]
     },
     "execution_count": 944,
     "metadata": {},
     "output_type": "execute_result"
    }
   ],
   "source": [
    "# To the person majoring in 'Tropicana is 100% orange juice' with a GPA over 9000!\n",
    "# Thank you for your hard work.\n",
    "dfx.iloc[181]"
   ]
  },
  {
   "cell_type": "code",
   "execution_count": 945,
   "metadata": {
    "collapsed": false
   },
   "outputs": [
    {
     "data": {
      "text/plain": [
       "Major                                                                                             CS\n",
       "Company                                                                                         Yelp\n",
       "University                                                                                 Cambridge\n",
       "Job Title                                                                          Software Engineer\n",
       "Graduation Year                                                                                 2017\n",
       "Gender                                                                                          Male\n",
       "Ethnicity origin (or Race)                                                                     White\n",
       "GPA                                                                                              NaN\n",
       "Are you working on any side projects, companies, or dreams? Please share if so!     World domination\n",
       "Name: 197, dtype: object"
      ]
     },
     "execution_count": 945,
     "metadata": {},
     "output_type": "execute_result"
    }
   ],
   "source": [
    "# Be very afraid! This nerd has his heart set on world domination, but he needs to work on his GPA first!\n",
    "dfx.iloc[197]"
   ]
  },
  {
   "cell_type": "code",
   "execution_count": 946,
   "metadata": {
    "collapsed": false
   },
   "outputs": [
    {
     "data": {
      "text/plain": [
       "Major                                                                                                       CS\n",
       "Company                                                                                                 Twilio\n",
       "University                                                                                                 CMU\n",
       "Job Title                                                                          Software Engineering Intern\n",
       "Graduation Year                                                                                           2017\n",
       "Gender                                                                                                    Male\n",
       "Ethnicity origin (or Race)                                                                               White\n",
       "GPA                                                                                                          3\n",
       "Are you working on any side projects, companies, or dreams? Please share if so!                       too much\n",
       "Name: 4610, dtype: object"
      ]
     },
     "execution_count": 946,
     "metadata": {},
     "output_type": "execute_result"
    }
   ],
   "source": [
    "# Our kids are trying to tell us something. This one is probably stressed out. He's doing 'too much'.\n",
    "dfx.iloc[4610]"
   ]
  },
  {
   "cell_type": "code",
   "execution_count": 947,
   "metadata": {
    "collapsed": false
   },
   "outputs": [
    {
     "data": {
      "text/plain": [
       "Major                                                                                                       CS\n",
       "Company                                                                                                  Lumia\n",
       "University                                                                                             Caltech\n",
       "Job Title                                                                                           VC Analyst\n",
       "Graduation Year                                                                                           2018\n",
       "Gender                                                                                                    Male\n",
       "Ethnicity origin (or Race)                                                            Asian / Pacific Islander\n",
       "GPA                                                                                                          4\n",
       "Are you working on any side projects, companies, or dreams? Please share if so!    Working on a human exosuit!\n",
       "Name: 4501, dtype: object"
      ]
     },
     "execution_count": 947,
     "metadata": {},
     "output_type": "execute_result"
    }
   ],
   "source": [
    "# I'm interested in this guy's project. If you're reading this, let's talk!\n",
    "dfx.iloc[4501]"
   ]
  },
  {
   "cell_type": "code",
   "execution_count": null,
   "metadata": {
    "collapsed": true
   },
   "outputs": [],
   "source": []
  }
 ],
 "metadata": {
  "anaconda-cloud": {},
  "kernelspec": {
   "display_name": "Python [default]",
   "language": "python",
   "name": "python3"
  },
  "language_info": {
   "codemirror_mode": {
    "name": "ipython",
    "version": 3
   },
   "file_extension": ".py",
   "mimetype": "text/x-python",
   "name": "python",
   "nbconvert_exporter": "python",
   "pygments_lexer": "ipython3",
   "version": "3.5.2"
  }
 },
 "nbformat": 4,
 "nbformat_minor": 1
}
